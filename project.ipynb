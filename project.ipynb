{
 "cells": [
  {
   "cell_type": "code",
   "execution_count": 102,
   "metadata": {},
   "outputs": [],
   "source": [
    "import torch\n",
    "import torch.nn as nn\n",
    "import torch.optim as optim\n",
    "from torch.utils.data import DataLoader\n",
    "from torchvision import datasets, transforms\n",
    "from tqdm import tqdm\n",
    "import random\n",
    "import matplotlib.pyplot as plt\n",
    "from sklearn.metrics.pairwise import cosine_similarity\n",
    "import numpy as np\n",
    "import pickle\n",
    "\n"
   ]
  },
  {
   "cell_type": "code",
   "execution_count": 3,
   "metadata": {},
   "outputs": [],
   "source": [
    "device = \"cuda\" if torch.cuda.is_available() else \"cpu\""
   ]
  },
  {
   "cell_type": "code",
   "execution_count": 4,
   "metadata": {},
   "outputs": [],
   "source": [
    "\n",
    "transform = transforms.Compose([\n",
    "    transforms.Resize((28, 28)), \n",
    "    transforms.Grayscale(num_output_channels=1),  \n",
    "    transforms.ToTensor(),  \n",
    "    transforms.Normalize(mean=[0.5], std=[0.5]) \n",
    "])\n",
    "\n",
    "\n",
    "\n",
    "train_dataset = datasets.MNIST(root='./data', train=True, download=True, transform=transform)\n",
    "test_dataset = datasets.MNIST(root='./data', train=False, download=True, transform=transform)\n",
    "\n",
    "train_loader = DataLoader(train_dataset, batch_size=64, shuffle=False)\n",
    "test_loader = DataLoader(test_dataset, batch_size=64, shuffle=False)\n",
    "\n"
   ]
  },
  {
   "cell_type": "code",
   "execution_count": 6,
   "metadata": {},
   "outputs": [],
   "source": [
    "class CustomCNN(nn.Module):\n",
    "    def __init__(self):\n",
    "        super(CustomCNN, self).__init__()\n",
    "        self.conv1 = nn.Conv2d(1, 32, kernel_size=3, padding=1)  \n",
    "        self.conv2 = nn.Conv2d(32, 64, kernel_size=3, padding=1)\n",
    "        self.conv3 = nn.Conv2d(64, 128, kernel_size=3, padding=1)\n",
    "        \n",
    "        self.fc1 = nn.Linear(128 * 3 * 3, 128) \n",
    "        self.fc2 = nn.Linear(128, 10) \n",
    "\n",
    "        self.feature_extractor = nn.Sequential(\n",
    "            self.conv1,\n",
    "            nn.ReLU(),\n",
    "            nn.MaxPool2d(kernel_size=2),\n",
    "            self.conv2,\n",
    "            nn.ReLU(),\n",
    "            nn.MaxPool2d(kernel_size=2),\n",
    "            self.conv3,\n",
    "            nn.ReLU(),\n",
    "            nn.MaxPool2d(kernel_size=2),\n",
    "            nn.Flatten(),\n",
    "            self.fc1\n",
    "        )\n",
    "    \n",
    "    def forward(self, x):\n",
    "        features = self.feature_extractor(x)  \n",
    "        output = self.fc2(features)  \n",
    "        return output, features \n"
   ]
  },
  {
   "cell_type": "code",
   "execution_count": null,
   "metadata": {},
   "outputs": [],
   "source": [
    "model = CustomCNN().cuda()\n",
    "criterion = nn.CrossEntropyLoss()\n",
    "optimizer = optim.Adam(model.parameters(), lr=0.001)\n",
    "\n",
    "def train_model(num_epochs=10):\n",
    "    for epoch in range(num_epochs):\n",
    "        model.train()\n",
    "        running_loss = 0.0\n",
    "        correct = 0\n",
    "        total = 0\n",
    "        for images, labels in tqdm(train_loader):\n",
    "            images, labels = images.cuda(), labels.cuda()\n",
    "\n",
    "            optimizer.zero_grad()\n",
    "            outputs, _ = model(images)  \n",
    "            loss = criterion(outputs, labels)\n",
    "            loss.backward()\n",
    "            optimizer.step()\n",
    "\n",
    "            running_loss += loss.item()\n",
    "            _, predicted = torch.max(outputs, 1)\n",
    "            correct += (predicted == labels).sum().item()\n",
    "            total += labels.size(0)\n",
    "\n",
    "        epoch_loss = running_loss / len(train_loader)\n",
    "        epoch_acc = 100 * correct / total\n",
    "        print(f\"Epoch [{epoch+1}/{num_epochs}], Loss: {epoch_loss:.4f}, Accuracy: {epoch_acc:.2f}%\")\n",
    "\n",
    "train_model(num_epochs=10)\n"
   ]
  },
  {
   "cell_type": "code",
   "execution_count": 3,
   "metadata": {},
   "outputs": [],
   "source": [
    "torch.save(model , \"feature_extractor.pt\")"
   ]
  },
  {
   "cell_type": "code",
   "execution_count": 8,
   "metadata": {},
   "outputs": [
    {
     "name": "stderr",
     "output_type": "stream",
     "text": [
      "100%|██████████| 938/938 [00:24<00:00, 37.93it/s]\n",
      "100%|██████████| 157/157 [00:03<00:00, 39.62it/s]"
     ]
    },
    {
     "name": "stdout",
     "output_type": "stream",
     "text": [
      "Train Features Shape: torch.Size([60000, 128])\n",
      "Test Features Shape: torch.Size([10000, 128])\n"
     ]
    },
    {
     "name": "stderr",
     "output_type": "stream",
     "text": [
      "\n"
     ]
    }
   ],
   "source": [
    "def extract_features(dataloader):\n",
    "    model.eval()  \n",
    "    features_list = []\n",
    "    labels_list = []\n",
    "\n",
    "    with torch.no_grad():\n",
    "        for images, labels in tqdm(dataloader):\n",
    "            images = images.cuda()  \n",
    "            labels_list.append(labels)\n",
    "\n",
    "            _, features = model(images) \n",
    "\n",
    "            features_list.append(features.cpu())  \n",
    "\n",
    "    return torch.cat(features_list), torch.cat(labels_list)\n",
    "\n",
    "model = torch.load(\"models/feature_extractor.pt\" , weights_only=False).to(device)\n",
    "\n",
    "train_features, train_labels = extract_features(train_loader)\n",
    "test_features, test_labels = extract_features(test_loader)\n",
    "\n",
    "print(f\"Train Features Shape: {train_features.shape}\")\n",
    "print(f\"Test Features Shape: {test_features.shape}\")\n"
   ]
  },
  {
   "cell_type": "code",
   "execution_count": 17,
   "metadata": {},
   "outputs": [],
   "source": [
    "torch.save(train_features , \"data/train_features.pt\")\n",
    "torch.save(test_features , \"data/test_features.pt\")\n",
    "torch.save(train_labels , \"data/train_labels.pt\")\n",
    "torch.save(test_labels , \"data/test_labels.pt\")\n"
   ]
  },
  {
   "cell_type": "code",
   "execution_count": 9,
   "metadata": {},
   "outputs": [],
   "source": [
    "dic = {\n",
    "    0 : (-1,-1,-1,-1),\n",
    "    1 : (-1,-1,-1,1),\n",
    "    2 : (-1,-1,1,-1),\n",
    "    3 : (-1,-1,1,1),\n",
    "    4 : (-1,1,-1,-1),\n",
    "    5 : (-1,1,-1,1),\n",
    "    6 : (-1,1,1,-1),\n",
    "    7 : (-1,1,1,1),\n",
    "    8 : (1,-1,-1,-1),\n",
    "    9 : (1,-1,-1,1),\n",
    "}\n",
    "\n",
    "train_buckets = [dic[i.item()] for i in train_labels]\n",
    "test_buckets = [dic[i.item()] for i in test_labels]"
   ]
  },
  {
   "cell_type": "code",
   "execution_count": 10,
   "metadata": {},
   "outputs": [],
   "source": [
    "def create_dic(binary_hash_buckets):\n",
    "\n",
    "    dic = {}\n",
    "\n",
    "    for i , hash in enumerate(binary_hash_buckets):\n",
    "        if hash in dic.keys():\n",
    "            dic[hash].append(train_features[i].numpy())\n",
    "            continue\n",
    "        dic[hash] = [train_features[i].numpy()]\n",
    "    \n",
    "    return dic"
   ]
  },
  {
   "cell_type": "code",
   "execution_count": 11,
   "metadata": {},
   "outputs": [],
   "source": [
    "def average_similarity_all_keys(dictionary):\n",
    "    avg_similarity_scores = 0\n",
    "\n",
    "    for hash_key, vectors in dictionary.items():\n",
    "        vectors = np.array(vectors)  \n",
    "        if len(vectors) < 2:\n",
    "            continue\n",
    "\n",
    "        similarity_matrix = cosine_similarity(vectors)\n",
    "\n",
    "        triu_indices = np.triu_indices(len(vectors), k=1)\n",
    "        similarity_scores = similarity_matrix[triu_indices]\n",
    "\n",
    "        avg_similarity_scores += np.mean(similarity_scores) if similarity_scores.size > 0 else None\n",
    "\n",
    "    return avg_similarity_scores/len(dictionary)\n",
    "\n",
    "\n"
   ]
  },
  {
   "cell_type": "code",
   "execution_count": 12,
   "metadata": {},
   "outputs": [
    {
     "data": {
      "text/plain": [
       "0.8542236030101776"
      ]
     },
     "execution_count": 12,
     "metadata": {},
     "output_type": "execute_result"
    }
   ],
   "source": [
    "train_dic = create_dic(train_buckets)\n",
    "\n",
    "average_similarity_all_keys(train_dic)"
   ]
  },
  {
   "cell_type": "code",
   "execution_count": 16,
   "metadata": {},
   "outputs": [],
   "source": [
    "with open(\"data/train_dic.pkl\" , \"wb\") as f:\n",
    "    pickle.dump(train_dic , f)\n"
   ]
  },
  {
   "cell_type": "code",
   "execution_count": 13,
   "metadata": {},
   "outputs": [],
   "source": [
    "class HashingMLP(nn.Module):\n",
    "    def __init__(self, input_dim=128, output_dim=4):\n",
    "        super(HashingMLP, self).__init__()\n",
    "        self.model = nn.Sequential(\n",
    "            nn.Linear(input_dim, 128),\n",
    "            nn.BatchNorm1d(128),\n",
    "            nn.ReLU(),\n",
    "            nn.Linear(128, 64),\n",
    "            nn.BatchNorm1d(64),\n",
    "            nn.ReLU(),\n",
    "            nn.Linear(64, 32),\n",
    "            nn.BatchNorm1d(32),\n",
    "            nn.ReLU(),\n",
    "            nn.Linear(32, output_dim), \n",
    "            nn.Tanh()  \n",
    "        )\n",
    "\n",
    "    def forward(self, x):\n",
    "        return self.model(x)"
   ]
  },
  {
   "cell_type": "code",
   "execution_count": null,
   "metadata": {},
   "outputs": [
    {
     "name": "stderr",
     "output_type": "stream",
     "text": [
      "Epoch 1/100: 100%|██████████| 235/235 [00:53<00:00,  4.41it/s, loss=0.0000]\n"
     ]
    },
    {
     "name": "stdout",
     "output_type": "stream",
     "text": [
      "Epoch [1/100], Loss: 0.0597, LR: 0.001000\n"
     ]
    },
    {
     "name": "stderr",
     "output_type": "stream",
     "text": [
      "Epoch 2/100: 100%|██████████| 235/235 [00:54<00:00,  4.35it/s, loss=0.0000]\n"
     ]
    },
    {
     "name": "stdout",
     "output_type": "stream",
     "text": [
      "Epoch [2/100], Loss: 0.0018, LR: 0.001000\n"
     ]
    },
    {
     "name": "stderr",
     "output_type": "stream",
     "text": [
      "Epoch 3/100: 100%|██████████| 235/235 [00:54<00:00,  4.34it/s, loss=0.0000]\n"
     ]
    },
    {
     "name": "stdout",
     "output_type": "stream",
     "text": [
      "Epoch [3/100], Loss: 0.0013, LR: 0.001000\n"
     ]
    },
    {
     "name": "stderr",
     "output_type": "stream",
     "text": [
      "Epoch 4/100: 100%|██████████| 235/235 [00:54<00:00,  4.31it/s, loss=0.0009]\n"
     ]
    },
    {
     "name": "stdout",
     "output_type": "stream",
     "text": [
      "Epoch [4/100], Loss: 0.0011, LR: 0.001000\n"
     ]
    },
    {
     "name": "stderr",
     "output_type": "stream",
     "text": [
      "Epoch 5/100: 100%|██████████| 235/235 [00:52<00:00,  4.49it/s, loss=0.0013]\n"
     ]
    },
    {
     "name": "stdout",
     "output_type": "stream",
     "text": [
      "Epoch [5/100], Loss: 0.0010, LR: 0.000500\n"
     ]
    },
    {
     "name": "stderr",
     "output_type": "stream",
     "text": [
      "Epoch 6/100: 100%|██████████| 235/235 [00:52<00:00,  4.50it/s, loss=0.0000]\n"
     ]
    },
    {
     "name": "stdout",
     "output_type": "stream",
     "text": [
      "Epoch [6/100], Loss: 0.0006, LR: 0.000500\n"
     ]
    },
    {
     "name": "stderr",
     "output_type": "stream",
     "text": [
      "Epoch 7/100: 100%|██████████| 235/235 [00:50<00:00,  4.68it/s, loss=0.0000]\n"
     ]
    },
    {
     "name": "stdout",
     "output_type": "stream",
     "text": [
      "Epoch [7/100], Loss: 0.0007, LR: 0.000500\n"
     ]
    },
    {
     "name": "stderr",
     "output_type": "stream",
     "text": [
      "Epoch 8/100: 100%|██████████| 235/235 [00:50<00:00,  4.62it/s, loss=0.0000]\n"
     ]
    },
    {
     "name": "stdout",
     "output_type": "stream",
     "text": [
      "Epoch [8/100], Loss: 0.0007, LR: 0.000500\n"
     ]
    },
    {
     "name": "stderr",
     "output_type": "stream",
     "text": [
      "Epoch 9/100: 100%|██████████| 235/235 [00:50<00:00,  4.68it/s, loss=0.0000]\n"
     ]
    },
    {
     "name": "stdout",
     "output_type": "stream",
     "text": [
      "Epoch [9/100], Loss: 0.0007, LR: 0.000500\n"
     ]
    },
    {
     "name": "stderr",
     "output_type": "stream",
     "text": [
      "Epoch 10/100: 100%|██████████| 235/235 [00:50<00:00,  4.64it/s, loss=0.0000]\n"
     ]
    },
    {
     "name": "stdout",
     "output_type": "stream",
     "text": [
      "Epoch [10/100], Loss: 0.0007, LR: 0.000250\n"
     ]
    },
    {
     "name": "stderr",
     "output_type": "stream",
     "text": [
      "Epoch 11/100: 100%|██████████| 235/235 [00:50<00:00,  4.67it/s, loss=0.0000]\n"
     ]
    },
    {
     "name": "stdout",
     "output_type": "stream",
     "text": [
      "Epoch [11/100], Loss: 0.0005, LR: 0.000250\n"
     ]
    },
    {
     "name": "stderr",
     "output_type": "stream",
     "text": [
      "Epoch 12/100: 100%|██████████| 235/235 [00:50<00:00,  4.70it/s, loss=0.0000]\n"
     ]
    },
    {
     "name": "stdout",
     "output_type": "stream",
     "text": [
      "Epoch [12/100], Loss: 0.0005, LR: 0.000250\n"
     ]
    },
    {
     "name": "stderr",
     "output_type": "stream",
     "text": [
      "Epoch 13/100: 100%|██████████| 235/235 [00:50<00:00,  4.63it/s, loss=0.0000]\n"
     ]
    },
    {
     "name": "stdout",
     "output_type": "stream",
     "text": [
      "Epoch [13/100], Loss: 0.0004, LR: 0.000250\n"
     ]
    },
    {
     "name": "stderr",
     "output_type": "stream",
     "text": [
      "Epoch 14/100: 100%|██████████| 235/235 [00:52<00:00,  4.45it/s, loss=0.0000]\n"
     ]
    },
    {
     "name": "stdout",
     "output_type": "stream",
     "text": [
      "Epoch [14/100], Loss: 0.0004, LR: 0.000250\n"
     ]
    },
    {
     "name": "stderr",
     "output_type": "stream",
     "text": [
      "Epoch 15/100: 100%|██████████| 235/235 [00:52<00:00,  4.46it/s, loss=0.0000]\n"
     ]
    },
    {
     "name": "stdout",
     "output_type": "stream",
     "text": [
      "Epoch [15/100], Loss: 0.0004, LR: 0.000125\n"
     ]
    },
    {
     "name": "stderr",
     "output_type": "stream",
     "text": [
      "Epoch 16/100: 100%|██████████| 235/235 [00:52<00:00,  4.45it/s, loss=0.0000]\n"
     ]
    },
    {
     "name": "stdout",
     "output_type": "stream",
     "text": [
      "Epoch [16/100], Loss: 0.0004, LR: 0.000125\n"
     ]
    },
    {
     "name": "stderr",
     "output_type": "stream",
     "text": [
      "Epoch 17/100: 100%|██████████| 235/235 [00:52<00:00,  4.47it/s, loss=0.0002]\n"
     ]
    },
    {
     "name": "stdout",
     "output_type": "stream",
     "text": [
      "Epoch [17/100], Loss: 0.0005, LR: 0.000125\n"
     ]
    },
    {
     "name": "stderr",
     "output_type": "stream",
     "text": [
      "Epoch 18/100: 100%|██████████| 235/235 [00:52<00:00,  4.47it/s, loss=0.0000]\n"
     ]
    },
    {
     "name": "stdout",
     "output_type": "stream",
     "text": [
      "Epoch [18/100], Loss: 0.0003, LR: 0.000125\n"
     ]
    },
    {
     "name": "stderr",
     "output_type": "stream",
     "text": [
      "Epoch 19/100: 100%|██████████| 235/235 [00:54<00:00,  4.29it/s, loss=0.0000]\n"
     ]
    },
    {
     "name": "stdout",
     "output_type": "stream",
     "text": [
      "Epoch [19/100], Loss: 0.0003, LR: 0.000125\n"
     ]
    },
    {
     "name": "stderr",
     "output_type": "stream",
     "text": [
      "Epoch 20/100: 100%|██████████| 235/235 [00:50<00:00,  4.69it/s, loss=0.0000]\n"
     ]
    },
    {
     "name": "stdout",
     "output_type": "stream",
     "text": [
      "Epoch [20/100], Loss: 0.0003, LR: 0.000063\n"
     ]
    },
    {
     "name": "stderr",
     "output_type": "stream",
     "text": [
      "Epoch 21/100: 100%|██████████| 235/235 [00:50<00:00,  4.67it/s, loss=0.0000]\n"
     ]
    },
    {
     "name": "stdout",
     "output_type": "stream",
     "text": [
      "Epoch [21/100], Loss: 0.0003, LR: 0.000063\n"
     ]
    },
    {
     "name": "stderr",
     "output_type": "stream",
     "text": [
      "Epoch 22/100: 100%|██████████| 235/235 [00:49<00:00,  4.72it/s, loss=0.0000]\n"
     ]
    },
    {
     "name": "stdout",
     "output_type": "stream",
     "text": [
      "Epoch [22/100], Loss: 0.0002, LR: 0.000063\n"
     ]
    },
    {
     "name": "stderr",
     "output_type": "stream",
     "text": [
      "Epoch 23/100: 100%|██████████| 235/235 [00:49<00:00,  4.71it/s, loss=0.0000]\n"
     ]
    },
    {
     "name": "stdout",
     "output_type": "stream",
     "text": [
      "Epoch [23/100], Loss: 0.0002, LR: 0.000063\n"
     ]
    },
    {
     "name": "stderr",
     "output_type": "stream",
     "text": [
      "Epoch 24/100: 100%|██████████| 235/235 [00:50<00:00,  4.68it/s, loss=0.0000]\n"
     ]
    },
    {
     "name": "stdout",
     "output_type": "stream",
     "text": [
      "Epoch [24/100], Loss: 0.0002, LR: 0.000063\n"
     ]
    },
    {
     "name": "stderr",
     "output_type": "stream",
     "text": [
      "Epoch 25/100: 100%|██████████| 235/235 [00:50<00:00,  4.64it/s, loss=0.0000]\n"
     ]
    },
    {
     "name": "stdout",
     "output_type": "stream",
     "text": [
      "Epoch [25/100], Loss: 0.0003, LR: 0.000031\n"
     ]
    },
    {
     "name": "stderr",
     "output_type": "stream",
     "text": [
      "Epoch 26/100: 100%|██████████| 235/235 [00:50<00:00,  4.65it/s, loss=0.0000]\n"
     ]
    },
    {
     "name": "stdout",
     "output_type": "stream",
     "text": [
      "Epoch [26/100], Loss: 0.0003, LR: 0.000031\n"
     ]
    },
    {
     "name": "stderr",
     "output_type": "stream",
     "text": [
      "Epoch 27/100: 100%|██████████| 235/235 [00:51<00:00,  4.57it/s, loss=0.0000]\n"
     ]
    },
    {
     "name": "stdout",
     "output_type": "stream",
     "text": [
      "Epoch [27/100], Loss: 0.0002, LR: 0.000031\n"
     ]
    },
    {
     "name": "stderr",
     "output_type": "stream",
     "text": [
      "Epoch 28/100: 100%|██████████| 235/235 [00:50<00:00,  4.63it/s, loss=0.0000]\n"
     ]
    },
    {
     "name": "stdout",
     "output_type": "stream",
     "text": [
      "Epoch [28/100], Loss: 0.0003, LR: 0.000031\n"
     ]
    },
    {
     "name": "stderr",
     "output_type": "stream",
     "text": [
      "Epoch 29/100: 100%|██████████| 235/235 [00:51<00:00,  4.58it/s, loss=0.0008]\n"
     ]
    },
    {
     "name": "stdout",
     "output_type": "stream",
     "text": [
      "Epoch [29/100], Loss: 0.0002, LR: 0.000031\n"
     ]
    },
    {
     "name": "stderr",
     "output_type": "stream",
     "text": [
      "Epoch 30/100: 100%|██████████| 235/235 [00:50<00:00,  4.64it/s, loss=0.0000]\n"
     ]
    },
    {
     "name": "stdout",
     "output_type": "stream",
     "text": [
      "Epoch [30/100], Loss: 0.0003, LR: 0.000016\n"
     ]
    },
    {
     "name": "stderr",
     "output_type": "stream",
     "text": [
      "Epoch 31/100: 100%|██████████| 235/235 [00:50<00:00,  4.66it/s, loss=0.0000]\n"
     ]
    },
    {
     "name": "stdout",
     "output_type": "stream",
     "text": [
      "Epoch [31/100], Loss: 0.0003, LR: 0.000016\n"
     ]
    },
    {
     "name": "stderr",
     "output_type": "stream",
     "text": [
      "Epoch 32/100: 100%|██████████| 235/235 [00:50<00:00,  4.65it/s, loss=0.0000]\n"
     ]
    },
    {
     "name": "stdout",
     "output_type": "stream",
     "text": [
      "Epoch [32/100], Loss: 0.0003, LR: 0.000016\n"
     ]
    },
    {
     "name": "stderr",
     "output_type": "stream",
     "text": [
      "Epoch 33/100: 100%|██████████| 235/235 [00:50<00:00,  4.66it/s, loss=0.0000]\n"
     ]
    },
    {
     "name": "stdout",
     "output_type": "stream",
     "text": [
      "Epoch [33/100], Loss: 0.0003, LR: 0.000016\n"
     ]
    },
    {
     "name": "stderr",
     "output_type": "stream",
     "text": [
      "Epoch 34/100: 100%|██████████| 235/235 [00:50<00:00,  4.64it/s, loss=0.0000]\n"
     ]
    },
    {
     "name": "stdout",
     "output_type": "stream",
     "text": [
      "Epoch [34/100], Loss: 0.0003, LR: 0.000016\n"
     ]
    },
    {
     "name": "stderr",
     "output_type": "stream",
     "text": [
      "Epoch 35/100: 100%|██████████| 235/235 [00:52<00:00,  4.45it/s, loss=0.0000]\n"
     ]
    },
    {
     "name": "stdout",
     "output_type": "stream",
     "text": [
      "Epoch [35/100], Loss: 0.0001, LR: 0.000008\n"
     ]
    },
    {
     "name": "stderr",
     "output_type": "stream",
     "text": [
      "Epoch 36/100: 100%|██████████| 235/235 [00:54<00:00,  4.35it/s, loss=0.0000]\n"
     ]
    },
    {
     "name": "stdout",
     "output_type": "stream",
     "text": [
      "Epoch [36/100], Loss: 0.0002, LR: 0.000008\n"
     ]
    },
    {
     "name": "stderr",
     "output_type": "stream",
     "text": [
      "Epoch 37/100: 100%|██████████| 235/235 [00:53<00:00,  4.41it/s, loss=0.0000]\n"
     ]
    },
    {
     "name": "stdout",
     "output_type": "stream",
     "text": [
      "Epoch [37/100], Loss: 0.0003, LR: 0.000008\n"
     ]
    },
    {
     "name": "stderr",
     "output_type": "stream",
     "text": [
      "Epoch 38/100: 100%|██████████| 235/235 [00:52<00:00,  4.51it/s, loss=0.0000]\n"
     ]
    },
    {
     "name": "stdout",
     "output_type": "stream",
     "text": [
      "Epoch [38/100], Loss: 0.0002, LR: 0.000008\n"
     ]
    },
    {
     "name": "stderr",
     "output_type": "stream",
     "text": [
      "Epoch 39/100: 100%|██████████| 235/235 [00:50<00:00,  4.63it/s, loss=0.0000]\n"
     ]
    },
    {
     "name": "stdout",
     "output_type": "stream",
     "text": [
      "Epoch [39/100], Loss: 0.0002, LR: 0.000008\n"
     ]
    },
    {
     "name": "stderr",
     "output_type": "stream",
     "text": [
      "Epoch 40/100: 100%|██████████| 235/235 [00:49<00:00,  4.71it/s, loss=0.0000]\n"
     ]
    },
    {
     "name": "stdout",
     "output_type": "stream",
     "text": [
      "Epoch [40/100], Loss: 0.0002, LR: 0.000004\n"
     ]
    },
    {
     "name": "stderr",
     "output_type": "stream",
     "text": [
      "Epoch 41/100: 100%|██████████| 235/235 [00:48<00:00,  4.85it/s, loss=0.0000]\n"
     ]
    },
    {
     "name": "stdout",
     "output_type": "stream",
     "text": [
      "Epoch [41/100], Loss: 0.0002, LR: 0.000004\n"
     ]
    },
    {
     "name": "stderr",
     "output_type": "stream",
     "text": [
      "Epoch 42/100: 100%|██████████| 235/235 [00:48<00:00,  4.90it/s, loss=0.0000]\n"
     ]
    },
    {
     "name": "stdout",
     "output_type": "stream",
     "text": [
      "Epoch [42/100], Loss: 0.0002, LR: 0.000004\n"
     ]
    },
    {
     "name": "stderr",
     "output_type": "stream",
     "text": [
      "Epoch 43/100: 100%|██████████| 235/235 [00:45<00:00,  5.14it/s, loss=0.0000]\n"
     ]
    },
    {
     "name": "stdout",
     "output_type": "stream",
     "text": [
      "Epoch [43/100], Loss: 0.0002, LR: 0.000004\n"
     ]
    },
    {
     "name": "stderr",
     "output_type": "stream",
     "text": [
      "Epoch 44/100: 100%|██████████| 235/235 [00:49<00:00,  4.78it/s, loss=0.0000]\n"
     ]
    },
    {
     "name": "stdout",
     "output_type": "stream",
     "text": [
      "Epoch [44/100], Loss: 0.0003, LR: 0.000004\n"
     ]
    },
    {
     "name": "stderr",
     "output_type": "stream",
     "text": [
      "Epoch 45/100: 100%|██████████| 235/235 [00:48<00:00,  4.89it/s, loss=0.0000]\n"
     ]
    },
    {
     "name": "stdout",
     "output_type": "stream",
     "text": [
      "Epoch [45/100], Loss: 0.0002, LR: 0.000002\n"
     ]
    },
    {
     "name": "stderr",
     "output_type": "stream",
     "text": [
      "Epoch 46/100: 100%|██████████| 235/235 [00:47<00:00,  4.90it/s, loss=0.0000]\n"
     ]
    },
    {
     "name": "stdout",
     "output_type": "stream",
     "text": [
      "Epoch [46/100], Loss: 0.0002, LR: 0.000002\n"
     ]
    },
    {
     "name": "stderr",
     "output_type": "stream",
     "text": [
      "Epoch 47/100: 100%|██████████| 235/235 [00:47<00:00,  4.96it/s, loss=0.0000]\n"
     ]
    },
    {
     "name": "stdout",
     "output_type": "stream",
     "text": [
      "Epoch [47/100], Loss: 0.0001, LR: 0.000002\n"
     ]
    },
    {
     "name": "stderr",
     "output_type": "stream",
     "text": [
      "Epoch 48/100: 100%|██████████| 235/235 [00:48<00:00,  4.84it/s, loss=0.0000]\n"
     ]
    },
    {
     "name": "stdout",
     "output_type": "stream",
     "text": [
      "Epoch [48/100], Loss: 0.0003, LR: 0.000002\n"
     ]
    },
    {
     "name": "stderr",
     "output_type": "stream",
     "text": [
      "Epoch 49/100: 100%|██████████| 235/235 [00:49<00:00,  4.79it/s, loss=0.0000]\n"
     ]
    },
    {
     "name": "stdout",
     "output_type": "stream",
     "text": [
      "Epoch [49/100], Loss: 0.0002, LR: 0.000002\n"
     ]
    },
    {
     "name": "stderr",
     "output_type": "stream",
     "text": [
      "Epoch 50/100: 100%|██████████| 235/235 [00:47<00:00,  4.95it/s, loss=0.0000]\n"
     ]
    },
    {
     "name": "stdout",
     "output_type": "stream",
     "text": [
      "Epoch [50/100], Loss: 0.0002, LR: 0.000001\n"
     ]
    },
    {
     "name": "stderr",
     "output_type": "stream",
     "text": [
      "Epoch 51/100: 100%|██████████| 235/235 [00:48<00:00,  4.89it/s, loss=0.0000]\n"
     ]
    },
    {
     "name": "stdout",
     "output_type": "stream",
     "text": [
      "Epoch [51/100], Loss: 0.0002, LR: 0.000001\n"
     ]
    },
    {
     "name": "stderr",
     "output_type": "stream",
     "text": [
      "Epoch 52/100: 100%|██████████| 235/235 [00:46<00:00,  5.07it/s, loss=0.0005]\n"
     ]
    },
    {
     "name": "stdout",
     "output_type": "stream",
     "text": [
      "Epoch [52/100], Loss: 0.0003, LR: 0.000001\n"
     ]
    },
    {
     "name": "stderr",
     "output_type": "stream",
     "text": [
      "Epoch 53/100: 100%|██████████| 235/235 [00:47<00:00,  4.92it/s, loss=0.0000]\n"
     ]
    },
    {
     "name": "stdout",
     "output_type": "stream",
     "text": [
      "Epoch [53/100], Loss: 0.0002, LR: 0.000001\n"
     ]
    },
    {
     "name": "stderr",
     "output_type": "stream",
     "text": [
      "Epoch 54/100: 100%|██████████| 235/235 [00:47<00:00,  4.99it/s, loss=0.0000]\n"
     ]
    },
    {
     "name": "stdout",
     "output_type": "stream",
     "text": [
      "Epoch [54/100], Loss: 0.0003, LR: 0.000001\n"
     ]
    },
    {
     "name": "stderr",
     "output_type": "stream",
     "text": [
      "Epoch 55/100: 100%|██████████| 235/235 [00:47<00:00,  4.99it/s, loss=0.0000]\n"
     ]
    },
    {
     "name": "stdout",
     "output_type": "stream",
     "text": [
      "Epoch [55/100], Loss: 0.0002, LR: 0.000000\n"
     ]
    },
    {
     "name": "stderr",
     "output_type": "stream",
     "text": [
      "Epoch 56/100: 100%|██████████| 235/235 [00:46<00:00,  5.01it/s, loss=0.0000]\n"
     ]
    },
    {
     "name": "stdout",
     "output_type": "stream",
     "text": [
      "Epoch [56/100], Loss: 0.0002, LR: 0.000000\n"
     ]
    },
    {
     "name": "stderr",
     "output_type": "stream",
     "text": [
      "Epoch 57/100: 100%|██████████| 235/235 [00:46<00:00,  5.05it/s, loss=0.0000]\n"
     ]
    },
    {
     "name": "stdout",
     "output_type": "stream",
     "text": [
      "Epoch [57/100], Loss: 0.0002, LR: 0.000000\n"
     ]
    },
    {
     "name": "stderr",
     "output_type": "stream",
     "text": [
      "Epoch 58/100: 100%|██████████| 235/235 [00:46<00:00,  5.06it/s, loss=0.0000]\n"
     ]
    },
    {
     "name": "stdout",
     "output_type": "stream",
     "text": [
      "Epoch [58/100], Loss: 0.0002, LR: 0.000000\n"
     ]
    },
    {
     "name": "stderr",
     "output_type": "stream",
     "text": [
      "Epoch 59/100: 100%|██████████| 235/235 [00:47<00:00,  4.99it/s, loss=0.0000]\n"
     ]
    },
    {
     "name": "stdout",
     "output_type": "stream",
     "text": [
      "Epoch [59/100], Loss: 0.0002, LR: 0.000000\n"
     ]
    },
    {
     "name": "stderr",
     "output_type": "stream",
     "text": [
      "Epoch 60/100: 100%|██████████| 235/235 [00:45<00:00,  5.14it/s, loss=0.0000]\n"
     ]
    },
    {
     "name": "stdout",
     "output_type": "stream",
     "text": [
      "Epoch [60/100], Loss: 0.0002, LR: 0.000000\n"
     ]
    },
    {
     "name": "stderr",
     "output_type": "stream",
     "text": [
      "Epoch 61/100: 100%|██████████| 235/235 [00:46<00:00,  5.05it/s, loss=0.0000]\n"
     ]
    },
    {
     "name": "stdout",
     "output_type": "stream",
     "text": [
      "Epoch [61/100], Loss: 0.0003, LR: 0.000000\n"
     ]
    },
    {
     "name": "stderr",
     "output_type": "stream",
     "text": [
      "Epoch 62/100: 100%|██████████| 235/235 [00:46<00:00,  5.05it/s, loss=0.0000]\n"
     ]
    },
    {
     "name": "stdout",
     "output_type": "stream",
     "text": [
      "Epoch [62/100], Loss: 0.0002, LR: 0.000000\n"
     ]
    },
    {
     "name": "stderr",
     "output_type": "stream",
     "text": [
      "Epoch 63/100: 100%|██████████| 235/235 [00:45<00:00,  5.14it/s, loss=0.0000]\n"
     ]
    },
    {
     "name": "stdout",
     "output_type": "stream",
     "text": [
      "Epoch [63/100], Loss: 0.0001, LR: 0.000000\n"
     ]
    },
    {
     "name": "stderr",
     "output_type": "stream",
     "text": [
      "Epoch 64/100: 100%|██████████| 235/235 [00:49<00:00,  4.79it/s, loss=0.0000]\n"
     ]
    },
    {
     "name": "stdout",
     "output_type": "stream",
     "text": [
      "Epoch [64/100], Loss: 0.0002, LR: 0.000000\n"
     ]
    },
    {
     "name": "stderr",
     "output_type": "stream",
     "text": [
      "Epoch 65/100: 100%|██████████| 235/235 [00:48<00:00,  4.80it/s, loss=0.0000]\n"
     ]
    },
    {
     "name": "stdout",
     "output_type": "stream",
     "text": [
      "Epoch [65/100], Loss: 0.0002, LR: 0.000000\n"
     ]
    },
    {
     "name": "stderr",
     "output_type": "stream",
     "text": [
      "Epoch 66/100: 100%|██████████| 235/235 [00:48<00:00,  4.89it/s, loss=0.0000]\n"
     ]
    },
    {
     "name": "stdout",
     "output_type": "stream",
     "text": [
      "Epoch [66/100], Loss: 0.0001, LR: 0.000000\n"
     ]
    },
    {
     "name": "stderr",
     "output_type": "stream",
     "text": [
      "Epoch 67/100: 100%|██████████| 235/235 [00:47<00:00,  4.95it/s, loss=0.0000]\n"
     ]
    },
    {
     "name": "stdout",
     "output_type": "stream",
     "text": [
      "Epoch [67/100], Loss: 0.0002, LR: 0.000000\n"
     ]
    },
    {
     "name": "stderr",
     "output_type": "stream",
     "text": [
      "Epoch 68/100: 100%|██████████| 235/235 [00:46<00:00,  5.00it/s, loss=0.0000]\n"
     ]
    },
    {
     "name": "stdout",
     "output_type": "stream",
     "text": [
      "Epoch [68/100], Loss: 0.0002, LR: 0.000000\n"
     ]
    },
    {
     "name": "stderr",
     "output_type": "stream",
     "text": [
      "Epoch 69/100: 100%|██████████| 235/235 [00:49<00:00,  4.74it/s, loss=0.0000]\n"
     ]
    },
    {
     "name": "stdout",
     "output_type": "stream",
     "text": [
      "Epoch [69/100], Loss: 0.0002, LR: 0.000000\n"
     ]
    },
    {
     "name": "stderr",
     "output_type": "stream",
     "text": [
      "Epoch 70/100: 100%|██████████| 235/235 [00:46<00:00,  5.08it/s, loss=0.0000]\n"
     ]
    },
    {
     "name": "stdout",
     "output_type": "stream",
     "text": [
      "Epoch [70/100], Loss: 0.0002, LR: 0.000000\n"
     ]
    },
    {
     "name": "stderr",
     "output_type": "stream",
     "text": [
      "Epoch 71/100: 100%|██████████| 235/235 [00:46<00:00,  5.09it/s, loss=0.0000]\n"
     ]
    },
    {
     "name": "stdout",
     "output_type": "stream",
     "text": [
      "Epoch [71/100], Loss: 0.0002, LR: 0.000000\n"
     ]
    },
    {
     "name": "stderr",
     "output_type": "stream",
     "text": [
      "Epoch 72/100: 100%|██████████| 235/235 [00:45<00:00,  5.16it/s, loss=0.0000]\n"
     ]
    },
    {
     "name": "stdout",
     "output_type": "stream",
     "text": [
      "Epoch [72/100], Loss: 0.0002, LR: 0.000000\n"
     ]
    },
    {
     "name": "stderr",
     "output_type": "stream",
     "text": [
      "Epoch 73/100: 100%|██████████| 235/235 [00:45<00:00,  5.17it/s, loss=0.0000]\n"
     ]
    },
    {
     "name": "stdout",
     "output_type": "stream",
     "text": [
      "Epoch [73/100], Loss: 0.0002, LR: 0.000000\n"
     ]
    },
    {
     "name": "stderr",
     "output_type": "stream",
     "text": [
      "Epoch 74/100: 100%|██████████| 235/235 [00:45<00:00,  5.13it/s, loss=0.0000]\n"
     ]
    },
    {
     "name": "stdout",
     "output_type": "stream",
     "text": [
      "Epoch [74/100], Loss: 0.0002, LR: 0.000000\n"
     ]
    },
    {
     "name": "stderr",
     "output_type": "stream",
     "text": [
      "Epoch 75/100: 100%|██████████| 235/235 [00:45<00:00,  5.16it/s, loss=0.0000]\n"
     ]
    },
    {
     "name": "stdout",
     "output_type": "stream",
     "text": [
      "Epoch [75/100], Loss: 0.0002, LR: 0.000000\n"
     ]
    },
    {
     "name": "stderr",
     "output_type": "stream",
     "text": [
      "Epoch 76/100: 100%|██████████| 235/235 [00:45<00:00,  5.21it/s, loss=0.0000]\n"
     ]
    },
    {
     "name": "stdout",
     "output_type": "stream",
     "text": [
      "Epoch [76/100], Loss: 0.0002, LR: 0.000000\n"
     ]
    },
    {
     "name": "stderr",
     "output_type": "stream",
     "text": [
      "Epoch 77/100: 100%|██████████| 235/235 [00:45<00:00,  5.19it/s, loss=0.0000]\n"
     ]
    },
    {
     "name": "stdout",
     "output_type": "stream",
     "text": [
      "Epoch [77/100], Loss: 0.0002, LR: 0.000000\n"
     ]
    },
    {
     "name": "stderr",
     "output_type": "stream",
     "text": [
      "Epoch 78/100: 100%|██████████| 235/235 [00:45<00:00,  5.18it/s, loss=0.0000]\n"
     ]
    },
    {
     "name": "stdout",
     "output_type": "stream",
     "text": [
      "Epoch [78/100], Loss: 0.0002, LR: 0.000000\n"
     ]
    },
    {
     "name": "stderr",
     "output_type": "stream",
     "text": [
      "Epoch 79/100: 100%|██████████| 235/235 [00:45<00:00,  5.18it/s, loss=0.0000]\n"
     ]
    },
    {
     "name": "stdout",
     "output_type": "stream",
     "text": [
      "Epoch [79/100], Loss: 0.0002, LR: 0.000000\n"
     ]
    },
    {
     "name": "stderr",
     "output_type": "stream",
     "text": [
      "Epoch 80/100: 100%|██████████| 235/235 [00:45<00:00,  5.15it/s, loss=0.0089]\n"
     ]
    },
    {
     "name": "stdout",
     "output_type": "stream",
     "text": [
      "Epoch [80/100], Loss: 0.0002, LR: 0.000000\n"
     ]
    },
    {
     "name": "stderr",
     "output_type": "stream",
     "text": [
      "Epoch 81/100: 100%|██████████| 235/235 [00:46<00:00,  5.08it/s, loss=0.0000]\n"
     ]
    },
    {
     "name": "stdout",
     "output_type": "stream",
     "text": [
      "Epoch [81/100], Loss: 0.0002, LR: 0.000000\n"
     ]
    },
    {
     "name": "stderr",
     "output_type": "stream",
     "text": [
      "Epoch 82/100: 100%|██████████| 235/235 [00:45<00:00,  5.11it/s, loss=0.0000]\n"
     ]
    },
    {
     "name": "stdout",
     "output_type": "stream",
     "text": [
      "Epoch [82/100], Loss: 0.0002, LR: 0.000000\n"
     ]
    },
    {
     "name": "stderr",
     "output_type": "stream",
     "text": [
      "Epoch 83/100: 100%|██████████| 235/235 [00:45<00:00,  5.15it/s, loss=0.0024]\n"
     ]
    },
    {
     "name": "stdout",
     "output_type": "stream",
     "text": [
      "Epoch [83/100], Loss: 0.0001, LR: 0.000000\n"
     ]
    },
    {
     "name": "stderr",
     "output_type": "stream",
     "text": [
      "Epoch 84/100: 100%|██████████| 235/235 [00:45<00:00,  5.12it/s, loss=0.0000]\n"
     ]
    },
    {
     "name": "stdout",
     "output_type": "stream",
     "text": [
      "Epoch [84/100], Loss: 0.0003, LR: 0.000000\n"
     ]
    },
    {
     "name": "stderr",
     "output_type": "stream",
     "text": [
      "Epoch 85/100: 100%|██████████| 235/235 [00:46<00:00,  5.05it/s, loss=0.0000]\n"
     ]
    },
    {
     "name": "stdout",
     "output_type": "stream",
     "text": [
      "Epoch [85/100], Loss: 0.0002, LR: 0.000000\n"
     ]
    },
    {
     "name": "stderr",
     "output_type": "stream",
     "text": [
      "Epoch 86/100: 100%|██████████| 235/235 [00:45<00:00,  5.13it/s, loss=0.0000]\n"
     ]
    },
    {
     "name": "stdout",
     "output_type": "stream",
     "text": [
      "Epoch [86/100], Loss: 0.0001, LR: 0.000000\n"
     ]
    },
    {
     "name": "stderr",
     "output_type": "stream",
     "text": [
      "Epoch 87/100: 100%|██████████| 235/235 [00:46<00:00,  5.08it/s, loss=0.0000]\n"
     ]
    },
    {
     "name": "stdout",
     "output_type": "stream",
     "text": [
      "Epoch [87/100], Loss: 0.0002, LR: 0.000000\n"
     ]
    },
    {
     "name": "stderr",
     "output_type": "stream",
     "text": [
      "Epoch 88/100: 100%|██████████| 235/235 [00:46<00:00,  5.08it/s, loss=0.0000]\n"
     ]
    },
    {
     "name": "stdout",
     "output_type": "stream",
     "text": [
      "Epoch [88/100], Loss: 0.0003, LR: 0.000000\n"
     ]
    },
    {
     "name": "stderr",
     "output_type": "stream",
     "text": [
      "Epoch 89/100: 100%|██████████| 235/235 [00:45<00:00,  5.16it/s, loss=0.0000]\n"
     ]
    },
    {
     "name": "stdout",
     "output_type": "stream",
     "text": [
      "Epoch [89/100], Loss: 0.0002, LR: 0.000000\n"
     ]
    },
    {
     "name": "stderr",
     "output_type": "stream",
     "text": [
      "Epoch 90/100: 100%|██████████| 235/235 [00:46<00:00,  5.07it/s, loss=0.0000]\n"
     ]
    },
    {
     "name": "stdout",
     "output_type": "stream",
     "text": [
      "Epoch [90/100], Loss: 0.0002, LR: 0.000000\n"
     ]
    },
    {
     "name": "stderr",
     "output_type": "stream",
     "text": [
      "Epoch 91/100: 100%|██████████| 235/235 [00:45<00:00,  5.11it/s, loss=0.0000]\n"
     ]
    },
    {
     "name": "stdout",
     "output_type": "stream",
     "text": [
      "Epoch [91/100], Loss: 0.0002, LR: 0.000000\n"
     ]
    },
    {
     "name": "stderr",
     "output_type": "stream",
     "text": [
      "Epoch 92/100: 100%|██████████| 235/235 [00:46<00:00,  5.04it/s, loss=0.0000]\n"
     ]
    },
    {
     "name": "stdout",
     "output_type": "stream",
     "text": [
      "Epoch [92/100], Loss: 0.0002, LR: 0.000000\n"
     ]
    },
    {
     "name": "stderr",
     "output_type": "stream",
     "text": [
      "Epoch 93/100: 100%|██████████| 235/235 [00:46<00:00,  5.05it/s, loss=0.0000]\n"
     ]
    },
    {
     "name": "stdout",
     "output_type": "stream",
     "text": [
      "Epoch [93/100], Loss: 0.0003, LR: 0.000000\n"
     ]
    },
    {
     "name": "stderr",
     "output_type": "stream",
     "text": [
      "Epoch 94/100: 100%|██████████| 235/235 [00:46<00:00,  5.06it/s, loss=0.0000]\n"
     ]
    },
    {
     "name": "stdout",
     "output_type": "stream",
     "text": [
      "Epoch [94/100], Loss: 0.0002, LR: 0.000000\n"
     ]
    },
    {
     "name": "stderr",
     "output_type": "stream",
     "text": [
      "Epoch 95/100: 100%|██████████| 235/235 [00:45<00:00,  5.12it/s, loss=0.0000]\n"
     ]
    },
    {
     "name": "stdout",
     "output_type": "stream",
     "text": [
      "Epoch [95/100], Loss: 0.0003, LR: 0.000000\n"
     ]
    },
    {
     "name": "stderr",
     "output_type": "stream",
     "text": [
      "Epoch 96/100: 100%|██████████| 235/235 [00:45<00:00,  5.18it/s, loss=0.0000]\n"
     ]
    },
    {
     "name": "stdout",
     "output_type": "stream",
     "text": [
      "Epoch [96/100], Loss: 0.0003, LR: 0.000000\n"
     ]
    },
    {
     "name": "stderr",
     "output_type": "stream",
     "text": [
      "Epoch 97/100: 100%|██████████| 235/235 [00:45<00:00,  5.16it/s, loss=0.0029]\n"
     ]
    },
    {
     "name": "stdout",
     "output_type": "stream",
     "text": [
      "Epoch [97/100], Loss: 0.0003, LR: 0.000000\n"
     ]
    },
    {
     "name": "stderr",
     "output_type": "stream",
     "text": [
      "Epoch 98/100: 100%|██████████| 235/235 [00:46<00:00,  5.10it/s, loss=0.0000]\n"
     ]
    },
    {
     "name": "stdout",
     "output_type": "stream",
     "text": [
      "Epoch [98/100], Loss: 0.0002, LR: 0.000000\n"
     ]
    },
    {
     "name": "stderr",
     "output_type": "stream",
     "text": [
      "Epoch 99/100: 100%|██████████| 235/235 [00:46<00:00,  5.07it/s, loss=0.0000]\n"
     ]
    },
    {
     "name": "stdout",
     "output_type": "stream",
     "text": [
      "Epoch [99/100], Loss: 0.0002, LR: 0.000000\n"
     ]
    },
    {
     "name": "stderr",
     "output_type": "stream",
     "text": [
      "Epoch 100/100: 100%|██████████| 235/235 [00:46<00:00,  5.08it/s, loss=0.0059]"
     ]
    },
    {
     "name": "stdout",
     "output_type": "stream",
     "text": [
      "Epoch [100/100], Loss: 0.0003, LR: 0.000000\n"
     ]
    },
    {
     "name": "stderr",
     "output_type": "stream",
     "text": [
      "\n"
     ]
    }
   ],
   "source": [
    "hashing_mlp = HashingMLP().to(device)\n",
    "optimizer = optim.Adam(hashing_mlp.parameters(), lr=0.001)\n",
    "scheduler = optim.lr_scheduler.StepLR(optimizer, step_size=5, gamma=0.5)\n",
    "criterion = nn.TripletMarginLoss(margin=1.0, p=2)\n",
    "\n",
    "train_features_tensor = torch.tensor(train_features, dtype=torch.float32).to(device)\n",
    "train_labels_tensor = torch.tensor(train_labels, dtype=torch.long).to(device)\n",
    "\n",
    "batch_size = 32\n",
    "num_samples = len(train_features_tensor)\n",
    "\n",
    "num_epochs = 10\n",
    "for epoch in range(num_epochs):\n",
    "    epoch_loss = 0.0\n",
    "    indices = torch.randperm(num_samples)  \n",
    "    \n",
    "    for i in tqdm(range(0, num_samples - batch_size, batch_size)):\n",
    "        batch_indices = indices[i : i + batch_size]\n",
    "        \n",
    "        anchor = train_features_tensor[batch_indices]\n",
    "        anchor_hash = hashing_mlp(anchor)\n",
    "\n",
    "        positive_indices = [\n",
    "            random.choice(torch.where(train_labels_tensor == train_labels_tensor[idx])[0]).item()\n",
    "            for idx in batch_indices\n",
    "        ]\n",
    "        positive = train_features_tensor[positive_indices]\n",
    "        positive_hash = hashing_mlp(positive)\n",
    "\n",
    "        negative_indices = [\n",
    "            random.choice(torch.where(train_labels_tensor != train_labels_tensor[idx])[0]).item()\n",
    "            for idx in batch_indices\n",
    "        ]\n",
    "        negative = train_features_tensor[negative_indices]\n",
    "        negative_hash = hashing_mlp(negative)\n",
    "\n",
    "        optimizer.zero_grad()\n",
    "        loss = criterion(anchor_hash, positive_hash, negative_hash)\n",
    "        loss.backward()\n",
    "        optimizer.step()\n",
    "\n",
    "        epoch_loss += loss.item()\n",
    "\n",
    "    scheduler.step()  \n",
    "    print(f\"Epoch [{epoch+1}/{num_epochs}], Loss: {epoch_loss / (num_samples // batch_size):.4f}\")"
   ]
  },
  {
   "cell_type": "code",
   "execution_count": 297,
   "metadata": {},
   "outputs": [
    {
     "data": {
      "text/plain": [
       "{'epoch_losses': [0.059743355792213945,\n",
       "  0.001841343566775322,\n",
       "  0.0012515975182202268,\n",
       "  0.0010647164350573687,\n",
       "  0.0010491942550907743,\n",
       "  0.0006173630512537475,\n",
       "  0.0006675085558139897,\n",
       "  0.0006727378320028173,\n",
       "  0.0006919452127941111,\n",
       "  0.000706749613535531,\n",
       "  0.0005317514068744284,\n",
       "  0.0005062997697832737,\n",
       "  0.0004144399070200768,\n",
       "  0.00035111366751346183,\n",
       "  0.000391961040688639,\n",
       "  0.0003865774849707142,\n",
       "  0.00046766005119586244,\n",
       "  0.0002928445412916072,\n",
       "  0.00027573733055528173,\n",
       "  0.00028780416308089776,\n",
       "  0.00029662472413892444,\n",
       "  0.00023448257707059383,\n",
       "  0.0002455790844210919,\n",
       "  0.00017899044175097282,\n",
       "  0.000269146872922144,\n",
       "  0.00027809774582373333,\n",
       "  0.0002362901592587537,\n",
       "  0.000279589879148184,\n",
       "  0.00018181345955607423,\n",
       "  0.0003410142668067141,\n",
       "  0.00026294497000251677,\n",
       "  0.0002858445494178128,\n",
       "  0.0002639047266479502,\n",
       "  0.0002949831442550776,\n",
       "  0.00014968264174271137,\n",
       "  0.0002037437969541296,\n",
       "  0.00026970267929929366,\n",
       "  0.00022511157266637112,\n",
       "  0.0002425141493849298,\n",
       "  0.00023574414365786186,\n",
       "  0.00022143254631218758,\n",
       "  0.00022832138582747034,\n",
       "  0.00017197148557356065,\n",
       "  0.00027731626314368653,\n",
       "  0.0001673414887107433,\n",
       "  0.00024753394041289673,\n",
       "  0.00014756693346227738,\n",
       "  0.000306144696561263,\n",
       "  0.0002080717193398704,\n",
       "  0.0002493224721005622,\n",
       "  0.00015857219299737443,\n",
       "  0.0002696315131269078,\n",
       "  0.0002484442685988355,\n",
       "  0.00025134816904492837,\n",
       "  0.00021951832471692816,\n",
       "  0.0001617468457589758,\n",
       "  0.00023297802049745904,\n",
       "  0.00019879390168538752,\n",
       "  0.00021744392653729052,\n",
       "  0.00022949004308023353,\n",
       "  0.00029020228106132215,\n",
       "  0.0002483831520410294,\n",
       "  0.00014608446112338532,\n",
       "  0.00020948329326161679,\n",
       "  0.00018823356466724517,\n",
       "  0.00014586473735881612,\n",
       "  0.00016517074818306782,\n",
       "  0.00016954252694515473,\n",
       "  0.0001889147736290668,\n",
       "  0.00019483985676568873,\n",
       "  0.00024826067717785533,\n",
       "  0.00016090233730984494,\n",
       "  0.00020626960916722074,\n",
       "  0.00024111630256347198,\n",
       "  0.0002197702336025999,\n",
       "  0.00023361638465777356,\n",
       "  0.00021038837631807682,\n",
       "  0.00018069991108743435,\n",
       "  0.00023209861816560968,\n",
       "  0.00018825112108854537,\n",
       "  0.00019540819438531044,\n",
       "  0.00022950525534279803,\n",
       "  0.00014670232528860266,\n",
       "  0.0003193179848901135,\n",
       "  0.00019463584659264443,\n",
       "  0.00014718995489021566,\n",
       "  0.00024116291327679412,\n",
       "  0.00029337390207071255,\n",
       "  0.00024170369167435677,\n",
       "  0.00022148172509797075,\n",
       "  0.00017951267692161368,\n",
       "  0.00020355635738753257,\n",
       "  0.00026630566732839067,\n",
       "  0.00023207968556659018,\n",
       "  0.0002631226623866786,\n",
       "  0.0002579528115134924,\n",
       "  0.0002837509650023694,\n",
       "  0.0001817759502916894,\n",
       "  0.00024851962844742105,\n",
       "  0.00028618277704462093],\n",
       " 'learning_rates': [0.001,\n",
       "  0.001,\n",
       "  0.001,\n",
       "  0.001,\n",
       "  0.0005,\n",
       "  0.0005,\n",
       "  0.0005,\n",
       "  0.0005,\n",
       "  0.0005,\n",
       "  0.00025,\n",
       "  0.00025,\n",
       "  0.00025,\n",
       "  0.00025,\n",
       "  0.00025,\n",
       "  0.000125,\n",
       "  0.000125,\n",
       "  0.000125,\n",
       "  0.000125,\n",
       "  0.000125,\n",
       "  6.25e-05,\n",
       "  6.25e-05,\n",
       "  6.25e-05,\n",
       "  6.25e-05,\n",
       "  6.25e-05,\n",
       "  3.125e-05,\n",
       "  3.125e-05,\n",
       "  3.125e-05,\n",
       "  3.125e-05,\n",
       "  3.125e-05,\n",
       "  1.5625e-05,\n",
       "  1.5625e-05,\n",
       "  1.5625e-05,\n",
       "  1.5625e-05,\n",
       "  1.5625e-05,\n",
       "  7.8125e-06,\n",
       "  7.8125e-06,\n",
       "  7.8125e-06,\n",
       "  7.8125e-06,\n",
       "  7.8125e-06,\n",
       "  3.90625e-06,\n",
       "  3.90625e-06,\n",
       "  3.90625e-06,\n",
       "  3.90625e-06,\n",
       "  3.90625e-06,\n",
       "  1.953125e-06,\n",
       "  1.953125e-06,\n",
       "  1.953125e-06,\n",
       "  1.953125e-06,\n",
       "  1.953125e-06,\n",
       "  9.765625e-07,\n",
       "  9.765625e-07,\n",
       "  9.765625e-07,\n",
       "  9.765625e-07,\n",
       "  9.765625e-07,\n",
       "  4.8828125e-07,\n",
       "  4.8828125e-07,\n",
       "  4.8828125e-07,\n",
       "  4.8828125e-07,\n",
       "  4.8828125e-07,\n",
       "  2.44140625e-07,\n",
       "  2.44140625e-07,\n",
       "  2.44140625e-07,\n",
       "  2.44140625e-07,\n",
       "  2.44140625e-07,\n",
       "  1.220703125e-07,\n",
       "  1.220703125e-07,\n",
       "  1.220703125e-07,\n",
       "  1.220703125e-07,\n",
       "  1.220703125e-07,\n",
       "  6.103515625e-08,\n",
       "  6.103515625e-08,\n",
       "  6.103515625e-08,\n",
       "  6.103515625e-08,\n",
       "  6.103515625e-08,\n",
       "  3.0517578125e-08,\n",
       "  3.0517578125e-08,\n",
       "  3.0517578125e-08,\n",
       "  3.0517578125e-08,\n",
       "  3.0517578125e-08,\n",
       "  1.52587890625e-08,\n",
       "  1.52587890625e-08,\n",
       "  1.52587890625e-08,\n",
       "  1.52587890625e-08,\n",
       "  1.52587890625e-08,\n",
       "  7.62939453125e-09,\n",
       "  7.62939453125e-09,\n",
       "  7.62939453125e-09,\n",
       "  7.62939453125e-09,\n",
       "  7.62939453125e-09,\n",
       "  3.814697265625e-09,\n",
       "  3.814697265625e-09,\n",
       "  3.814697265625e-09,\n",
       "  3.814697265625e-09,\n",
       "  3.814697265625e-09,\n",
       "  1.9073486328125e-09,\n",
       "  1.9073486328125e-09,\n",
       "  1.9073486328125e-09,\n",
       "  1.9073486328125e-09,\n",
       "  1.9073486328125e-09,\n",
       "  9.5367431640625e-10]}"
      ]
     },
     "execution_count": 297,
     "metadata": {},
     "output_type": "execute_result"
    }
   ],
   "source": [
    "history"
   ]
  },
  {
   "cell_type": "code",
   "execution_count": 295,
   "metadata": {},
   "outputs": [],
   "source": [
    "torch.save(hashing_mlp , \"improved_hash_100.pt\")"
   ]
  },
  {
   "cell_type": "code",
   "execution_count": 14,
   "metadata": {},
   "outputs": [],
   "source": [
    "import matplotlib.pyplot as plt"
   ]
  },
  {
   "cell_type": "code",
   "execution_count": 15,
   "metadata": {},
   "outputs": [
    {
     "name": "stderr",
     "output_type": "stream",
     "text": [
      "C:\\Users\\amodj\\AppData\\Local\\Temp\\ipykernel_36032\\3741935403.py:1: FutureWarning: You are using `torch.load` with `weights_only=False` (the current default value), which uses the default pickle module implicitly. It is possible to construct malicious pickle data which will execute arbitrary code during unpickling (See https://github.com/pytorch/pytorch/blob/main/SECURITY.md#untrusted-models for more details). In a future release, the default value for `weights_only` will be flipped to `True`. This limits the functions that could be executed during unpickling. Arbitrary objects will no longer be allowed to be loaded via this mode unless they are explicitly allowlisted by the user via `torch.serialization.add_safe_globals`. We recommend you start setting `weights_only=True` for any use case where you don't have full control of the loaded file. Please open an issue on GitHub for any issues related to this experimental feature.\n",
      "  mlp = torch.load(\"models/improved_hash.pt\")\n"
     ]
    }
   ],
   "source": [
    "mlp = torch.load(\"models/improved_hash.pt\")"
   ]
  },
  {
   "cell_type": "code",
   "execution_count": 16,
   "metadata": {},
   "outputs": [],
   "source": [
    "import faiss\n",
    "import numpy as np\n",
    "import pickle\n",
    "\n",
    "\n",
    "faiss_indices = {index : faiss.IndexFlatL2(train_features.shape[1]) for index in dic.values()}\n",
    "\n",
    "for index in faiss_indices.keys():\n",
    "    faiss_indices[index].add(np.array(train_dic[index]))\n",
    "\n",
    "with open(\"database/faiss.pkl\" , \"wb\") as f:\n",
    "    pickle.dump(faiss_indices , f)\n",
    "\n",
    "\n"
   ]
  },
  {
   "cell_type": "code",
   "execution_count": 24,
   "metadata": {},
   "outputs": [],
   "source": []
  },
  {
   "cell_type": "code",
   "execution_count": 303,
   "metadata": {},
   "outputs": [
    {
     "name": "stderr",
     "output_type": "stream",
     "text": [
      "100%|██████████| 60000/60000 [00:48<00:00, 1248.62it/s]\n"
     ]
    }
   ],
   "source": [
    "pred = []\n",
    "\n",
    "with torch.no_grad():\n",
    "    for feature in tqdm(train_features):\n",
    "        indices = tuple(torch.sign(mlp(feature.to(device))).cpu().numpy().tolist())\n",
    "        pred.append(indices)"
   ]
  },
  {
   "cell_type": "code",
   "execution_count": 113,
   "metadata": {},
   "outputs": [],
   "source": [
    "all_zeros = train_dic[(-1,-1,-1,-1)]"
   ]
  },
  {
   "cell_type": "code",
   "execution_count": 158,
   "metadata": {},
   "outputs": [
    {
     "name": "stderr",
     "output_type": "stream",
     "text": [
      "100%|██████████| 5923/5923 [00:05<00:00, 991.38it/s] \n"
     ]
    }
   ],
   "source": []
  },
  {
   "cell_type": "code",
   "execution_count": 301,
   "metadata": {},
   "outputs": [
    {
     "data": {
      "text/plain": [
       "{(-1.0, -1.0, -1.0, -1.0),\n",
       " (-1.0, -1.0, -1.0, 1.0),\n",
       " (-1.0, -1.0, 1.0, -1.0),\n",
       " (-1.0, -1.0, 1.0, 1.0),\n",
       " (-1.0, 1.0, -1.0, -1.0),\n",
       " (-1.0, 1.0, -1.0, 1.0),\n",
       " (-1.0, 1.0, 1.0, -1.0),\n",
       " (-1.0, 1.0, 1.0, 1.0),\n",
       " (1.0, -1.0, -1.0, -1.0),\n",
       " (1.0, -1.0, -1.0, 1.0),\n",
       " (1.0, -1.0, 1.0, -1.0),\n",
       " (1.0, 1.0, -1.0, -1.0),\n",
       " (1.0, 1.0, -1.0, 1.0),\n",
       " (1.0, 1.0, 1.0, 1.0)}"
      ]
     },
     "execution_count": 301,
     "metadata": {},
     "output_type": "execute_result"
    }
   ],
   "source": [
    "set(pred)\n"
   ]
  },
  {
   "cell_type": "code",
   "execution_count": 309,
   "metadata": {},
   "outputs": [
    {
     "name": "stdout",
     "output_type": "stream",
     "text": [
      "Correct : 59856 | Incorrect : 144 | Accuracy : 0.9976\n"
     ]
    }
   ],
   "source": [
    "pred = []\n",
    "\n",
    "with torch.no_grad():\n",
    "    for feature in tqdm(train_features):\n",
    "        indices = tuple(torch.sign(mlp(feature.to(device))).cpu().numpy().tolist())\n",
    "        pred.append(indices)\n",
    "\n",
    "correct = 0\n",
    "incorrect = 0\n",
    "\n",
    "for x , y in zip(train_buckets , pred):\n",
    "    if x == y:\n",
    "        correct += 1\n",
    "    else:\n",
    "        incorrect += 1\n",
    "\n",
    "print(f\"Correct : {correct} | Incorrect : {incorrect} | Accuracy : {correct / 60000}\")"
   ]
  },
  {
   "cell_type": "code",
   "execution_count": 304,
   "metadata": {},
   "outputs": [],
   "source": [
    "pred_dic = {i : [] for i in list(set(pred))}\n",
    "\n",
    "for i in range(len(pred)):\n",
    "    pred_dic[pred[i]].append(train_features[i].cpu())"
   ]
  },
  {
   "cell_type": "code",
   "execution_count": null,
   "metadata": {},
   "outputs": [],
   "source": [
    "import numpy as np\n",
    "from typing import Dict, List, Generator\n",
    "from collections import defaultdict\n",
    "\n",
    "def batch_generator(data: np.ndarray, labels: np.ndarray, batch_size: int) -> Generator:\n",
    "    num_samples = len(data)\n",
    "    indices = np.arange(num_samples)\n",
    "    \n",
    "    for start_idx in range(0, num_samples, batch_size):\n",
    "        end_idx = min(start_idx + batch_size, num_samples)\n",
    "        batch_indices = indices[start_idx:end_idx]\n",
    "        yield data[batch_indices], labels[batch_indices], batch_indices\n",
    "\n",
    "import numpy as np\n",
    "\n",
    "def batch_simhash(feature_vectors: np.ndarray, hash_bits: int = 16, seed: int = 42) -> np.ndarray:\n",
    "    batch_size, feature_dim = feature_vectors.shape\n",
    "\n",
    "    norms = np.linalg.norm(feature_vectors, axis=1, keepdims=True)\n",
    "    feature_vectors = feature_vectors / (norms + 1e-10)  \n",
    "\n",
    "    np.random.seed(seed)\n",
    "\n",
    "    random_matrix = np.random.randn(feature_dim, hash_bits)\n",
    "    random_matrix, _ = np.linalg.qr(random_matrix)  \n",
    "\n",
    "    projections = np.dot(feature_vectors, random_matrix)\n",
    "\n",
    "    binary_hashes = (projections > np.median(projections, axis=0)).astype(np.uint64)\n",
    "\n",
    "    simhashes = np.zeros(batch_size, dtype=np.uint64)\n",
    "    for i in range(hash_bits):\n",
    "        simhashes |= binary_hashes[:, i] << i  \n",
    "\n",
    "    return simhashes\n",
    "\n",
    "\n",
    "def cluster_similar_images_batch(\n",
    "    feature_vectors: np.ndarray, \n",
    "    labels: np.ndarray, \n",
    "    batch_size: int = 1000,\n",
    "    hash_bits: int = 16,\n",
    ") -> Dict[int, List[tuple]]:\n",
    " \n",
    "    clusters = defaultdict(list)\n",
    "    total_processed = 0\n",
    "    \n",
    "    for batch_data, batch_labels, batch_indices in batch_generator(feature_vectors, labels, batch_size):\n",
    "        batch_hashes = batch_simhash(batch_data , hash_bits)\n",
    "        \n",
    "        for i, hash_value in enumerate(batch_hashes):\n",
    "            clusters[int(hash_value)].append(batch_data[i])\n",
    "        \n",
    "        total_processed += len(batch_data)\n",
    "    \n",
    "    return clusters\n",
    "\n",
    "\n",
    "\n",
    "n_samples = 10000\n",
    "feature_dim = 128\n",
    "np.random.seed(42)\n",
    "\n",
    "feature_vectors = train_features.cpu()\n",
    "labels = train_labels.cpu()\n",
    "\n",
    "hash_sizes = [i for i in range(4,33)]\n",
    "\n",
    "hash_dic =  {}\n",
    "\n",
    "for hash_size in tqdm(hash_sizes):\n",
    "    clusters = cluster_similar_images_batch(\n",
    "        feature_vectors=feature_vectors,\n",
    "        labels=labels,\n",
    "        batch_size=512,\n",
    "        hash_bits = hash_size\n",
    "    )\n",
    "\n",
    "    hash_dic[hash_size] = average_similarity_all_keys(clusters)\n",
    "\n",
    "hash_dic = sorted(hash_dic.items() , key = lambda kv : (kv[1] , kv[0]) , reverse=True )\n",
    "\n",
    "def print_top_k_results(hash_list : list , k : int):\n",
    "        print(f\"Hash size: {hash_list[i][0]} , Similarity: {hash_list[i][1]}\")\n",
    "\n",
    "k = 5\n",
    "\n",
    "print_top_k_results(hash_dic , k)\n",
    "\n",
    "\n",
    "\n"
   ]
  },
  {
   "cell_type": "code",
   "execution_count": 21,
   "metadata": {},
   "outputs": [
    {
     "name": "stdout",
     "output_type": "stream",
     "text": [
      "Average Similarity Score for Hashing : 0.8542236030101776\n"
     ]
    }
   ],
   "source": [
    "average_score = average_similarity_all_keys(train_dic)\n",
    "\n",
    "print(f\"Average Similarity Score for Hashing : {average_score}\")"
   ]
  },
  {
   "cell_type": "code",
   "execution_count": 25,
   "metadata": {},
   "outputs": [
    {
     "name": "stderr",
     "output_type": "stream",
     "text": [
      "100%|██████████| 60000/60000 [00:56<00:00, 1067.98it/s]\n"
     ]
    },
    {
     "name": "stdout",
     "output_type": "stream",
     "text": [
      "Training Dataset :\n",
      "Correct : 59856 | Incorrect : 144 | Accuracy : 0.9976\n",
      "----------------------------------------------------------------------\n"
     ]
    },
    {
     "name": "stderr",
     "output_type": "stream",
     "text": [
      "100%|██████████| 10000/10000 [00:09<00:00, 1045.29it/s]"
     ]
    },
    {
     "name": "stdout",
     "output_type": "stream",
     "text": [
      "Testing Dataset :\n",
      "Correct : 9911 | Incorrect : 89 | Accuracy : 0.9911\n"
     ]
    },
    {
     "name": "stderr",
     "output_type": "stream",
     "text": [
      "\n"
     ]
    }
   ],
   "source": [
    "pred = []\n",
    "\n",
    "with torch.no_grad():\n",
    "    for feature in tqdm(train_features):\n",
    "        indices = tuple(torch.sign(mlp(feature.to(device))).cpu().numpy().tolist())\n",
    "        pred.append(indices)\n",
    "\n",
    "correct = 0\n",
    "incorrect = 0\n",
    "\n",
    "for x , y in zip(train_buckets , pred):\n",
    "    if x == y:\n",
    "        correct += 1\n",
    "    else:\n",
    "        incorrect += 1\n",
    "\n",
    "print(\"Training Dataset :\")\n",
    "print(f\"Correct : {correct} | Incorrect : {incorrect} | Accuracy : {correct / 60000}\")\n",
    "\n",
    "print(\"-\"*70)\n",
    "\n",
    "pred = []\n",
    "\n",
    "with torch.no_grad():\n",
    "    for feature in tqdm(test_features):\n",
    "        indices = tuple(torch.sign(mlp(feature.to(device))).cpu().numpy().tolist())\n",
    "        pred.append(indices)\n",
    "\n",
    "correct = 0\n",
    "incorrect = 0\n",
    "\n",
    "for x , y in zip(test_buckets , pred):\n",
    "    if x == y:\n",
    "        correct += 1\n",
    "    else:\n",
    "        incorrect += 1\n",
    "\n",
    "print(\"Testing Dataset :\")\n",
    "print(f\"Correct : {correct} | Incorrect : {incorrect} | Accuracy : {correct / len(test_features)}\")\n"
   ]
  },
  {
   "cell_type": "code",
   "execution_count": 45,
   "metadata": {},
   "outputs": [
    {
     "data": {
      "text/plain": [
       "tensor(0.9378)"
      ]
     },
     "execution_count": 45,
     "metadata": {},
     "output_type": "execute_result"
    }
   ],
   "source": [
    "feature_1 = test_features[3]\n",
    "feature_2 = test_features[10]\n",
    "\n",
    "torch.cosine_similarity(feature_1 , feature_2 , dim = 0)"
   ]
  },
  {
   "cell_type": "code",
   "execution_count": 103,
   "metadata": {},
   "outputs": [
    {
     "name": "stdout",
     "output_type": "stream",
     "text": [
      "Hash Bucket : (-1, 1, -1, 1)\n",
      "Retrieved Indices : [4312 1558 3043 1406 3167]\n"
     ]
    },
    {
     "data": {
      "image/png": "[encoded data removed]",
      "text/plain": [
       "<Figure size 1200x300 with 6 Axes>"
      ]
     },
     "metadata": {},
     "output_type": "display_data"
    }
   ],
   "source": [
    "def search_similar_images(query_idx=0, k=5):\n",
    "    query_feature = test_features[query_idx].to(device)\n",
    "\n",
    "    with torch.no_grad():\n",
    "\n",
    "      predicted_bucket = tuple(torch.sign(mlp(query_feature)).long().cpu().numpy().tolist())\n",
    "\n",
    "    print(f\"Hash Bucket : {predicted_bucket}\")\n",
    "\n",
    "    distances, indices = faiss_indices[predicted_bucket].search(query_feature.cpu().float().reshape(1,-1), k)\n",
    "\n",
    "    vectors = np.array(train_dic[predicted_bucket])\n",
    "\n",
    "    similar_vectors = vectors[indices].squeeze(0)\n",
    "\n",
    "    print(f\"Retrieved Indices : {indices.squeeze(0)}\") \n",
    "    \n",
    "    indices = []\n",
    "\n",
    "    for query in similar_vectors:\n",
    "        matches = torch.all(train_features.cpu() == query, dim=1)  \n",
    "        found_indices = torch.nonzero(matches, as_tuple=True)[0] \n",
    "        indices.append(found_indices.item())\n",
    "    \n",
    "    \n",
    "\n",
    "    fig, axes = plt.subplots(1, k+1, figsize=(12, 3))\n",
    "    axes[0].imshow(test_dataset[query_idx][0].squeeze(), cmap=\"gray\")\n",
    "    axes[0].set_title(\"Query Image\")\n",
    "    axes[0].axis(False)\n",
    "\n",
    "    for i, idx in enumerate(indices[:5]):\n",
    "        axes[i+1].imshow(train_dataset[idx][0].squeeze(), cmap=\"gray\")\n",
    "        axes[i+1].set_title(f\"Match {i+1}\")\n",
    "        axes[i+1].axis(False)\n",
    "    plt.show()\n",
    "\n",
    "\n",
    "\n",
    "search_similar_images(7612)"
   ]
  },
  {
   "cell_type": "code",
   "execution_count": 279,
   "metadata": {},
   "outputs": [
    {
     "name": "stderr",
     "output_type": "stream",
     "text": [
      "100%|██████████| 313/313 [00:07<00:00, 41.49it/s]\n"
     ]
    },
    {
     "name": "stdout",
     "output_type": "stream",
     "text": [
      "Digit 0: Precision = 0.990, Recall = 0.998, F1-score = 0.994\n",
      "Digit 1: Precision = 0.991, Recall = 1.000, F1-score = 0.996\n",
      "Digit 2: Precision = 0.985, Recall = 0.993, F1-score = 0.989\n",
      "Digit 3: Precision = 0.992, Recall = 0.993, F1-score = 0.993\n",
      "Digit 4: Precision = 0.990, Recall = 0.990, F1-score = 0.990\n",
      "Digit 5: Precision = 0.997, Recall = 0.984, F1-score = 0.990\n",
      "Digit 6: Precision = 0.993, Recall = 0.985, F1-score = 0.989\n",
      "Digit 7: Precision = 0.998, Recall = 0.981, F1-score = 0.989\n",
      "Digit 8: Precision = 0.991, Recall = 0.997, F1-score = 0.994\n",
      "Digit 9: Precision = 0.990, Recall = 0.992, F1-score = 0.991\n"
     ]
    },
    {
     "data": {
      "image/png": "[encoded data removed]",
      "text/plain": [
       "<Figure size 800x500 with 1 Axes>"
      ]
     },
     "metadata": {},
     "output_type": "display_data"
    }
   ],
   "source": [
    "from sklearn.metrics import precision_recall_fscore_support\n",
    "import numpy as np\n",
    "import torch\n",
    "import faiss\n",
    "import matplotlib.pyplot as plt\n",
    "from tqdm import tqdm\n",
    "from collections import Counter\n",
    "\n",
    "def compute_precision_recall_batch(k=5, batch_size=100):\n",
    "    embeddings_dict = {\n",
    "        bucket: faiss.rev_swig_ptr(index.get_xb(), index.ntotal * index.d).reshape(index.ntotal, index.d)\n",
    "        for bucket, index in faiss_indices.items()\n",
    "    }\n",
    "    \n",
    "    train_features_np = train_features.cpu().numpy()\n",
    "    train_features_dict = {\n",
    "        tuple(feat): idx for idx, feat in enumerate(train_features_np)\n",
    "    }\n",
    "    \n",
    "    y_true = np.zeros(len(test_features), dtype=np.int64)\n",
    "    y_pred = np.zeros(len(test_features), dtype=np.int64)\n",
    "    \n",
    "    batch_size = 32\n",
    "    num_batches = (len(test_features) + batch_size - 1) // batch_size\n",
    "    \n",
    "    with torch.no_grad():  \n",
    "        for batch_idx in tqdm(range(num_batches)):\n",
    "            start_idx = batch_idx * batch_size\n",
    "            end_idx = min((batch_idx + 1) * batch_size, len(test_features))\n",
    "            \n",
    "            query_features = test_features[start_idx:end_idx]\n",
    "            \n",
    "            predicted_buckets = torch.sign(mlp(query_features.to(device))).long().cpu()\n",
    "            \n",
    "            for i, (query_feature, pred_bucket) in enumerate(zip(query_features, predicted_buckets)):\n",
    "                current_idx = start_idx + i\n",
    "                query_feature_np = query_feature.numpy().reshape(1, -1)\n",
    "                bucket_key = tuple(pred_bucket.numpy().tolist())\n",
    "                \n",
    "                if bucket_key not in faiss_indices.keys():\n",
    "                    continue\n",
    "                distances, indices = faiss_indices[bucket_key].search(query_feature_np, k)\n",
    "                embeddings = embeddings_dict[bucket_key]\n",
    "                \n",
    "                retrieved_features = embeddings[indices[0]]\n",
    "                retrieved_indices = [train_features_dict[tuple(feat)] for feat in retrieved_features]\n",
    "                retrieved_labels = train_labels[retrieved_indices]\n",
    "                \n",
    "                y_true[current_idx] = test_labels[current_idx].cpu()\n",
    "                y_pred[current_idx] = Counter(retrieved_labels.tolist()).most_common(1)[0][0]\n",
    "\n",
    "    precision, recall, f1, _ = precision_recall_fscore_support(y_true, y_pred, average=None)\n",
    "\n",
    "    for digit in range(10):\n",
    "        print(f\"Digit {digit}: Precision = {precision[digit]:.3f}, Recall = {recall[digit]:.3f}, F1-score = {f1[digit]:.3f}\")\n",
    "\n",
    "    plt.figure(figsize=(8, 5))\n",
    "    x = range(10)\n",
    "    plt.plot(x, precision, label=\"Precision\", marker=\"o\", linestyle=\"dashed\")\n",
    "    plt.plot(x, recall, label=\"Recall\", marker=\"s\", linestyle=\"dashed\")\n",
    "    plt.plot(x, f1, label=\"F1-score\", marker=\"^\", linestyle=\"dashed\")\n",
    "    plt.xticks(x)\n",
    "    plt.xlabel(\"Digit Class\")\n",
    "    plt.ylabel(\"Score\")\n",
    "    plt.title(f\"Precision, Recall & F1-score for Top-{k} Retrieval\")\n",
    "    plt.legend()\n",
    "    plt.grid()\n",
    "    plt.show()\n",
    "\n",
    "compute_precision_recall_batch(k=5, batch_size=512)\n"
   ]
  }
 ],
 "metadata": {
  "kernelspec": {
   "display_name": "Python 3",
   "language": "python",
   "name": "python3"
  },
  "language_info": {
   "codemirror_mode": {
    "name": "ipython",
    "version": 3
   },
   "file_extension": ".py",
   "mimetype": "text/x-python",
   "name": "python",
   "nbconvert_exporter": "python",
   "pygments_lexer": "ipython3",
   "version": "3.12.2"
  }
 },
 "nbformat": 4,
 "nbformat_minor": 2
}
